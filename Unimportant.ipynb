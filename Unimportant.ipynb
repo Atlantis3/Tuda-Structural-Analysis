{
 "cells": [
  {
   "cell_type": "markdown",
   "id": "f7f4f57b",
   "metadata": {},
   "source": [
    "# Checking whether the given stiffness matrix is fully anisotropy, monotropic, orthotropy, transversal isotropy, or isotropic material\n",
    "\n",
    "## For 3d and 2d seperately"
   ]
  },
  {
   "cell_type": "code",
   "execution_count": 34,
   "id": "058fc191",
   "metadata": {},
   "outputs": [],
   "source": [
    "def material_type(stiffness_matrix):\n",
    "    if len(stiffness_matrix[0]) == len(stiffness_matrix[:,0]):\n",
    "        if len(stiffness_matrix[0]) == 3:\n",
    "            pass\n",
    "        elif (len(stiffness_matrix[0]) == 6):\n",
    "            c11 = stiffness_matrix[0,0]\n",
    "            c12 = stiffness_matrix[0,1]\n",
    "            c13 = stiffness_matrix[0,2]\n",
    "            c14 = stiffness_matrix[0,3]\n",
    "            c15 = stiffness_matrix[0,4]\n",
    "            c16 = stiffness_matrix[0,5]\n",
    "            \n",
    "            c22 = stiffness_matrix[1,1]\n",
    "            c23 = stiffness_matrix[1,2]\n",
    "            c24 = stiffness_matrix[1,3]\n",
    "            c25 = stiffness_matrix[1,4]\n",
    "            c26 = stiffness_matrix[1,5]\n",
    "            \n",
    "            c33 = stiffness_matrix[2,2]\n",
    "            c34 = stiffness_matrix[2,3]\n",
    "            c35 = stiffness_matrix[2,4]\n",
    "            c36 = stiffness_matrix[2,5]\n",
    "            \n",
    "            c44 = stiffness_matrix[3,3]\n",
    "            c45 = stiffness_matrix[3,4]\n",
    "            c46 = stiffness_matrix[3,5]\n",
    "            \n",
    "            c55 = stiffness_matrix[4,4]\n",
    "            c56 = stiffness_matrix[4,5]\n",
    "            \n",
    "            c66 = stiffness_matrix[5,5]\n",
    "            \n",
    "            \n",
    "            \n",
    "            \n",
    "            \n",
    "            \n",
    "            if (c14==0)&(c15==0)&(c24==0)&(c25==0)&(c34==0)&(c35==0)&(c46==0)&(c56==0)&(c16!=0)&(c26!=0)&(c36!=0)&(c45!=0):\n",
    "                return 'The material is Monotropic and it requires 13 independent material properties, it is symmetric with respect to x1-x2 plane. '\n",
    "            elif (c14==0)&(c15==0)&(c16==0)&(c24==0)&(c25==0)&(c26==0)&(c34==0)&(c35==0)&(c36==0)&(c45==0)&(c46==0)&(c56==0):\n",
    "                if (c22==c33)&(c12==c13)&(c55==c66)&(c44==(c22-c23)/2.0):\n",
    "                    return 'The material is Transversal Isotropy and it requires 5 independent material properties'\n",
    "                \n",
    "                elif (c11==c22==c33)&(c12==c13==c23)&(c44==c55==c66==(c11-c12)/2.0):\n",
    "                    return 'The material is Isotropic and it requires 2 Independent material properties'\n",
    "                \n",
    "                else:\n",
    "                    return 'The material is Orthotropic and it requires 9 independent material properties, it is symmetric with respect to three mutually perpendicular planes. '\n",
    "            else:\n",
    "                return 'The material is fully anisotropic and requires 21 independent material properties'\n",
    "            \n",
    "            \n",
    "            \n",
    "        else:\n",
    "            raise Exception('The given matrix is not of order 3x3 (2d problem) or 6x6 (3d problem)')\n",
    "        \n",
    "    else:\n",
    "        raise Exception('The given matrix is not a square matrix')"
   ]
  },
  {
   "cell_type": "code",
   "execution_count": 37,
   "id": "a7bdfc91",
   "metadata": {},
   "outputs": [],
   "source": [
    "import numpy as np\n",
    "matrix = np.array([[20,5,5,0,0,1],\n",
    "                  [7,8,9,0,0,2],\n",
    "                  [1,2,3,0,0,3],\n",
    "                  [7,8,9,10,2,0],\n",
    "                  [13,14,15,16,17,0],\n",
    "                  [19,20,21,22,23,24]])"
   ]
  },
  {
   "cell_type": "code",
   "execution_count": 38,
   "id": "44927662",
   "metadata": {},
   "outputs": [
    {
     "data": {
      "text/plain": [
       "'The material is Monotropic and it requires 13 independent material properties, it is symmetric with respect to x1-x2 plane. '"
      ]
     },
     "execution_count": 38,
     "metadata": {},
     "output_type": "execute_result"
    }
   ],
   "source": [
    "material_type(matrix)"
   ]
  },
  {
   "cell_type": "code",
   "execution_count": null,
   "id": "c8d03443",
   "metadata": {},
   "outputs": [],
   "source": []
  },
  {
   "cell_type": "code",
   "execution_count": null,
   "id": "65a287f5",
   "metadata": {},
   "outputs": [],
   "source": []
  },
  {
   "cell_type": "code",
   "execution_count": null,
   "id": "9ab574b7",
   "metadata": {},
   "outputs": [],
   "source": []
  }
 ],
 "metadata": {
  "kernelspec": {
   "display_name": "Python 3 (ipykernel)",
   "language": "python",
   "name": "python3"
  },
  "language_info": {
   "codemirror_mode": {
    "name": "ipython",
    "version": 3
   },
   "file_extension": ".py",
   "mimetype": "text/x-python",
   "name": "python",
   "nbconvert_exporter": "python",
   "pygments_lexer": "ipython3",
   "version": "3.8.10"
  }
 },
 "nbformat": 4,
 "nbformat_minor": 5
}
