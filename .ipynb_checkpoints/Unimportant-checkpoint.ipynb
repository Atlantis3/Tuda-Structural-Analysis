{
 "cells": [
  {
   "cell_type": "markdown",
   "id": "2372a9c2",
   "metadata": {},
   "source": [
    "# Checking whether the given stiffness matrix is fully anisotropy, monotropic, orthotropy, transversal isotropy, or isotropic material\n",
    "\n",
    "## For 3d and 2d seperately"
   ]
  },
  {
   "cell_type": "code",
   "execution_count": 1,
   "id": "7c897e66",
   "metadata": {},
   "outputs": [],
   "source": [
    "def material_type(stiffness_matrix):\n",
    "    if len(stiffness_matrix[0]) == len(stiffness_matrix[:,0]):\n",
    "        if len(stiffness_matrix[0]) == 3:\n",
    "            pass\n",
    "        elif (len(stiffness_matrix[0]) == 6):\n",
    "            c11 = stiffness_matrix[0,0]\n",
    "            c12 = stiffness_matrix[0,1]\n",
    "            c13 = stiffness_matrix[0,2]\n",
    "            c14 = stiffness_matrix[0,3]\n",
    "            c15 = stiffness_matrix[0,4]\n",
    "            c16 = stiffness_matrix[0,5]\n",
    "            \n",
    "            c22 = stiffness_matrix[1,1]\n",
    "            c23 = stiffness_matrix[1,2]\n",
    "            c24 = stiffness_matrix[1,3]\n",
    "            c25 = stiffness_matrix[1,4]\n",
    "            c26 = stiffness_matrix[1,5]\n",
    "            \n",
    "            c33 = stiffness_matrix[2,2]\n",
    "            c34 = stiffness_matrix[2,3]\n",
    "            c35 = stiffness_matrix[2,4]\n",
    "            c36 = stiffness_matrix[2,5]\n",
    "            \n",
    "            c44 = stiffness_matrix[3,3]\n",
    "            c45 = stiffness_matrix[3,4]\n",
    "            c46 = stiffness_matrix[3,5]\n",
    "            \n",
    "            c55 = stiffness_matrix[4,4]\n",
    "            c56 = stiffness_matrix[4,5]\n",
    "            \n",
    "            c66 = stiffness_matrix[5,5]\n",
    "            \n",
    "            \n",
    "            \n",
    "            \n",
    "            \n",
    "            \n",
    "            if (c14==0)&(c15==0)&(c24==0)&(c25==0)&(c34==0)&(c35==0)&(c46==0)&(c56==0)&(c16!=0)&(c26!=0)&(c36!=0)&(c45!=0):\n",
    "                return 'The material is Monotropic and it requires 13 independent material properties, it is symmetric with respect to x1-x2 plane. '\n",
    "            elif (c14==0)&(c15==0)&(c16==0)&(c24==0)&(c25==0)&(c26==0)&(c34==0)&(c35==0)&(c36==0)&(c45==0)&(c46==0)&(c56==0):\n",
    "                if (c22==c33)&(c12==c13)&(c55==c66)&(c44==(c22-c23)/2.0):\n",
    "                    return 'The material is Transversal Isotropy and it requires 5 independent material properties'\n",
    "                \n",
    "                elif (c11==c22==c33)&(c12==c13==c23)&(c44==c55==c66==(c11-c12)/2.0):\n",
    "                    return 'The material is Isotropic and it requires 2 Independent material properties'\n",
    "                \n",
    "                else:\n",
    "                    return 'The material is Orthotropic and it requires 9 independent material properties, it is symmetric with respect to three mutually perpendicular planes. '\n",
    "            else:\n",
    "                return 'The material is fully anisotropic and requires 21 independent material properties'\n",
    "            \n",
    "            \n",
    "            \n",
    "        else:\n",
    "            raise Exception('The given matrix is not of order 3x3 (2d problem) or 6x6 (3d problem)')\n",
    "        \n",
    "    else:\n",
    "        raise Exception('The given matrix is not a square matrix')"
   ]
  },
  {
   "cell_type": "code",
   "execution_count": 2,
   "id": "88629a6a",
   "metadata": {},
   "outputs": [],
   "source": [
    "import numpy as np\n",
    "matrix = np.array([[20,5,5,0,0,1],\n",
    "                  [7,8,9,0,0,2],\n",
    "                  [1,2,3,0,0,3],\n",
    "                  [7,8,9,10,2,0],\n",
    "                  [13,14,15,16,17,0],\n",
    "                  [19,20,21,22,23,24]])"
   ]
  },
  {
   "cell_type": "code",
   "execution_count": 3,
   "id": "55a833b9",
   "metadata": {},
   "outputs": [
    {
     "data": {
      "text/plain": [
       "'The material is Monotropic and it requires 13 independent material properties, it is symmetric with respect to x1-x2 plane. '"
      ]
     },
     "execution_count": 3,
     "metadata": {},
     "output_type": "execute_result"
    }
   ],
   "source": [
    "material_type(matrix)"
   ]
  },
  {
   "cell_type": "markdown",
   "id": "b1f5d36d",
   "metadata": {},
   "source": [
    "### Plane State of Strain"
   ]
  },
  {
   "cell_type": "code",
   "execution_count": null,
   "id": "8228c7c7",
   "metadata": {},
   "outputs": [],
   "source": []
  },
  {
   "cell_type": "markdown",
   "id": "4cbf36d7",
   "metadata": {},
   "source": [
    "### Creating of stiffness and complaince matrix for plane state of stress and plane state of stress"
   ]
  },
  {
   "cell_type": "code",
   "execution_count": 24,
   "id": "f19ee919",
   "metadata": {},
   "outputs": [],
   "source": [
    "def stiffness_matrix_plane_strain(material):\n",
    "    if len(material)==2:\n",
    "        E = material[0]\n",
    "        nu = material[1]\n",
    "        stiffness_matrix = (E/((1+nu)*(1-2*nu)))*np.array([[1-nu,nu,0],\n",
    "                                                         [nu,1-nu,0],\n",
    "                                                         [0,0,(1-2*nu)/2.0]])\n",
    "        return stiffness_matrix\n",
    "    else:\n",
    "        raise Exception('The provided material is not a list of lenght 2')"
   ]
  },
  {
   "cell_type": "code",
   "execution_count": 25,
   "id": "5d87cea9",
   "metadata": {},
   "outputs": [
    {
     "data": {
      "text/plain": [
       "array([[403.84615385, 173.07692308,   0.        ],\n",
       "       [173.07692308, 403.84615385,   0.        ],\n",
       "       [  0.        ,   0.        , 115.38461538]])"
      ]
     },
     "execution_count": 25,
     "metadata": {},
     "output_type": "execute_result"
    }
   ],
   "source": [
    "stiffness_matrix_plane_strain((300.0,0.3))"
   ]
  },
  {
   "cell_type": "code",
   "execution_count": 26,
   "id": "545b5193",
   "metadata": {},
   "outputs": [],
   "source": [
    "def stiffness_matrix_plane_stress(material):\n",
    "    if len(material)==2:\n",
    "        E = material[0]\n",
    "        nu = material[1]\n",
    "        stiffness_matrix = (E/(1-nu**2))*np.array([[1,nu,0],\n",
    "                                                  [nu,1,0],\n",
    "                                                  [0,0,(1-nu)/2.0]])\n",
    "        return stiffness_matrix\n",
    "    else:\n",
    "        raise Exception('The provided material is not a list of lenght 2')"
   ]
  },
  {
   "cell_type": "code",
   "execution_count": 27,
   "id": "073a08ae",
   "metadata": {},
   "outputs": [
    {
     "data": {
      "text/plain": [
       "array([[329.67032967,  98.9010989 ,   0.        ],\n",
       "       [ 98.9010989 , 329.67032967,   0.        ],\n",
       "       [  0.        ,   0.        , 115.38461538]])"
      ]
     },
     "execution_count": 27,
     "metadata": {},
     "output_type": "execute_result"
    }
   ],
   "source": [
    "stiffness_matrix_plane_stress((300.0,0.3))"
   ]
  },
  {
   "cell_type": "code",
   "execution_count": 28,
   "id": "c58ad24f",
   "metadata": {},
   "outputs": [],
   "source": [
    "def complaince_matrix_plane_strain(material):\n",
    "    if len(material)==2:\n",
    "        E = material[0]\n",
    "        nu = material[1]\n",
    "        stiffness_matrix = ((1+nu)/(E))*np.array([[1-nu,-nu,0],\n",
    "                                                  [-nu,1-nu,0],\n",
    "                                                  [0,0,2.0]])\n",
    "        return stiffness_matrix\n",
    "    else:\n",
    "        raise Exception('The provided material is not a list of lenght 2')"
   ]
  },
  {
   "cell_type": "code",
   "execution_count": 29,
   "id": "dbfc1011",
   "metadata": {},
   "outputs": [
    {
     "data": {
      "text/plain": [
       "array([[ 0.00303333, -0.0013    ,  0.        ],\n",
       "       [-0.0013    ,  0.00303333,  0.        ],\n",
       "       [ 0.        ,  0.        ,  0.00866667]])"
      ]
     },
     "execution_count": 29,
     "metadata": {},
     "output_type": "execute_result"
    }
   ],
   "source": [
    "complaince_matrix_plane_strain((300.0,0.3))"
   ]
  },
  {
   "cell_type": "code",
   "execution_count": 30,
   "id": "1f169b2d",
   "metadata": {},
   "outputs": [],
   "source": [
    "def complaince_matrix_plane_stress(material):\n",
    "    if len(material)==2:\n",
    "        E = material[0]\n",
    "        nu = material[1]\n",
    "        stiffness_matrix = ((1)/(E))*np.array([[1,-nu,0],\n",
    "                                              [-nu,1,0],\n",
    "                                              [0,0,2.0*(1+nu)]])\n",
    "        return stiffness_matrix\n",
    "    else:\n",
    "        raise Exception('The provided material is not a list of lenght 2')"
   ]
  },
  {
   "cell_type": "code",
   "execution_count": 31,
   "id": "1e16a4d5",
   "metadata": {},
   "outputs": [
    {
     "data": {
      "text/plain": [
       "array([[ 0.00333333, -0.001     ,  0.        ],\n",
       "       [-0.001     ,  0.00333333,  0.        ],\n",
       "       [ 0.        ,  0.        ,  0.00866667]])"
      ]
     },
     "execution_count": 31,
     "metadata": {},
     "output_type": "execute_result"
    }
   ],
   "source": [
    "complaince_matrix_plane_stress((300.0,0.3))"
   ]
  },
  {
   "cell_type": "code",
   "execution_count": 32,
   "id": "12052958",
   "metadata": {},
   "outputs": [
    {
     "data": {
      "text/plain": [
       "array([[ 0.00303333, -0.0013    ,  0.        ],\n",
       "       [-0.0013    ,  0.00303333,  0.        ],\n",
       "       [ 0.        ,  0.        ,  0.00866667]])"
      ]
     },
     "execution_count": 32,
     "metadata": {},
     "output_type": "execute_result"
    }
   ],
   "source": [
    "np.linalg.inv(stiffness_matrix_plane_strain((300.0,0.3)))"
   ]
  },
  {
   "cell_type": "code",
   "execution_count": 33,
   "id": "fbbbe55f",
   "metadata": {},
   "outputs": [
    {
     "data": {
      "text/plain": [
       "array([[ 0.00333333, -0.001     ,  0.        ],\n",
       "       [-0.001     ,  0.00333333,  0.        ],\n",
       "       [ 0.        ,  0.        ,  0.00866667]])"
      ]
     },
     "execution_count": 33,
     "metadata": {},
     "output_type": "execute_result"
    }
   ],
   "source": [
    "np.linalg.inv(stiffness_matrix_plane_stress((300.0,0.3)))"
   ]
  },
  {
   "cell_type": "code",
   "execution_count": null,
   "id": "99190b79",
   "metadata": {},
   "outputs": [],
   "source": []
  }
 ],
 "metadata": {
  "kernelspec": {
   "display_name": "Python 3 (ipykernel)",
   "language": "python",
   "name": "python3"
  },
  "language_info": {
   "codemirror_mode": {
    "name": "ipython",
    "version": 3
   },
   "file_extension": ".py",
   "mimetype": "text/x-python",
   "name": "python",
   "nbconvert_exporter": "python",
   "pygments_lexer": "ipython3",
   "version": "3.8.10"
  }
 },
 "nbformat": 4,
 "nbformat_minor": 5
}
