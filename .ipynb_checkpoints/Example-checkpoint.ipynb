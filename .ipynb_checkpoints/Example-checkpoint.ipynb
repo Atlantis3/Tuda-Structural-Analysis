{
 "cells": [
  {
   "cell_type": "markdown",
   "id": "e079f371",
   "metadata": {},
   "source": [
    "# This Jupyter Notebook shows how to use the library to carry out the structural analysis\n",
    "## Also this is my first time trying out the github and vscode\n"
   ]
  },
  {
   "cell_type": "markdown",
   "id": "7ce0c488",
   "metadata": {},
   "source": [
    "## 1. material_type()"
   ]
  },
  {
   "cell_type": "code",
   "execution_count": 1,
   "id": "ca67433a",
   "metadata": {},
   "outputs": [
    {
     "name": "stdout",
     "output_type": "stream",
     "text": [
      "Help on function material_type in module tuda_structural_analysis:\n",
      "\n",
      "material_type(stiffness_matrix)\n",
      "    Checks the given stiffness matrix for the type of linearity, whether the material is isotropic, orthotropic, monotropic, transversal isotropic or fully anisotropic\n",
      "    \n",
      "    Parameters\n",
      "    ----------\n",
      "    stiffness_matrix: numpy array, 3x3 or 6x6 matrix\n",
      "        The Stifness matrix in its standard form, a 3x3 matrix for 2d problems and a 6x6 matrix for 3d problems\n",
      "    \n",
      "    Returns\n",
      "    -------\n",
      "    output: string\n",
      "        Tells the user if the material is isotropic, orthotropic, monotropic, transversal isotropic or fully anisotropic\n",
      "\n"
     ]
    }
   ],
   "source": [
    "from tuda_structural_analysis import material_type\n",
    "help (material_type)"
   ]
  },
  {
   "cell_type": "code",
   "execution_count": 2,
   "id": "e0788ec9",
   "metadata": {},
   "outputs": [
    {
     "data": {
      "text/plain": [
       "'The material is fully anisotropic and requires 21 independent material properties'"
      ]
     },
     "execution_count": 2,
     "metadata": {},
     "output_type": "execute_result"
    }
   ],
   "source": [
    "import numpy as np\n",
    "stiffness_matrix = np.array([\n",
    "    [1,2,3,4,5,6],\n",
    "    [7,8,9,10,11,12],\n",
    "    [13,14,15,16,17,18],\n",
    "    [19,20,21,22,23,24],\n",
    "    [25,26,27,28,29,30],\n",
    "    [31,32,33,34,35,36]\n",
    "])\n",
    "material_type(stiffness_matrix)"
   ]
  },
  {
   "cell_type": "markdown",
   "id": "9cea0d43",
   "metadata": {},
   "source": [
    "## 2. Stiffness and complaince matrix for plane strain and plane stress conditions"
   ]
  },
  {
   "cell_type": "code",
   "execution_count": 3,
   "id": "369dcae8",
   "metadata": {},
   "outputs": [
    {
     "name": "stdout",
     "output_type": "stream",
     "text": [
      "Help on function stiffness_matrix_plane_strain in module tuda_structural_analysis:\n",
      "\n",
      "stiffness_matrix_plane_strain(material)\n",
      "    Calculates the Stiffness matrix for an isotropic material for the plane strain condition\n",
      "    \n",
      "    Parameters\n",
      "    ----------\n",
      "    material : list\n",
      "        The list of isotropic material properties in the form (E,nu)\n",
      "    \n",
      "    Returns\n",
      "    -------\n",
      "    stiffness_matrix : numpy array, 3x3 matrix\n",
      "        Returns the stifness matrix in its standard form as described in the literature by Prof. Mittelstedt\n",
      "\n"
     ]
    }
   ],
   "source": [
    "from tuda_structural_analysis import *\n",
    "help(stiffness_matrix_plane_strain)"
   ]
  },
  {
   "cell_type": "code",
   "execution_count": 4,
   "id": "d3c9fd8b",
   "metadata": {},
   "outputs": [
    {
     "data": {
      "text/plain": [
       "array([[6000., 2000.,    0.],\n",
       "       [2000., 6000.,    0.],\n",
       "       [   0.,    0., 2000.]])"
      ]
     },
     "execution_count": 4,
     "metadata": {},
     "output_type": "execute_result"
    }
   ],
   "source": [
    "E = 5000.0\n",
    "nu = 0.25\n",
    "material = (E,nu)\n",
    "stiffness_matrix_plane_strain(material)"
   ]
  },
  {
   "cell_type": "code",
   "execution_count": 5,
   "id": "e165e6a8",
   "metadata": {},
   "outputs": [
    {
     "data": {
      "text/plain": [
       "array([[5333.33333333, 1333.33333333,    0.        ],\n",
       "       [1333.33333333, 5333.33333333,    0.        ],\n",
       "       [   0.        ,    0.        , 2000.        ]])"
      ]
     },
     "execution_count": 5,
     "metadata": {},
     "output_type": "execute_result"
    }
   ],
   "source": [
    "stiffness_matrix_plane_stress(material)"
   ]
  },
  {
   "cell_type": "code",
   "execution_count": 6,
   "id": "9d560f2d",
   "metadata": {},
   "outputs": [
    {
     "data": {
      "text/plain": [
       "array([[ 1.875e-04, -6.250e-05,  0.000e+00],\n",
       "       [-6.250e-05,  1.875e-04,  0.000e+00],\n",
       "       [ 0.000e+00,  0.000e+00,  5.000e-04]])"
      ]
     },
     "execution_count": 6,
     "metadata": {},
     "output_type": "execute_result"
    }
   ],
   "source": [
    "complaince_matrix_plane_strain(material)"
   ]
  },
  {
   "cell_type": "code",
   "execution_count": 7,
   "id": "69b471f9",
   "metadata": {},
   "outputs": [
    {
     "data": {
      "text/plain": [
       "array([[ 2.e-04, -5.e-05,  0.e+00],\n",
       "       [-5.e-05,  2.e-04,  0.e+00],\n",
       "       [ 0.e+00,  0.e+00,  5.e-04]])"
      ]
     },
     "execution_count": 7,
     "metadata": {},
     "output_type": "execute_result"
    }
   ],
   "source": [
    "complaince_matrix_plane_stress(material)"
   ]
  },
  {
   "cell_type": "code",
   "execution_count": null,
   "id": "591ee987",
   "metadata": {},
   "outputs": [],
   "source": []
  }
 ],
 "metadata": {
  "kernelspec": {
   "display_name": "Python 3 (ipykernel)",
   "language": "python",
   "name": "python3"
  },
  "language_info": {
   "codemirror_mode": {
    "name": "ipython",
    "version": 3
   },
   "file_extension": ".py",
   "mimetype": "text/x-python",
   "name": "python",
   "nbconvert_exporter": "python",
   "pygments_lexer": "ipython3",
   "version": "3.8.10"
  }
 },
 "nbformat": 4,
 "nbformat_minor": 5
}
