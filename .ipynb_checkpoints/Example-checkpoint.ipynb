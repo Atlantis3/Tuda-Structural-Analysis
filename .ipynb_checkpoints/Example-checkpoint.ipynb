{
 "cells": [
  {
   "cell_type": "markdown",
   "id": "be925659",
   "metadata": {},
   "source": [
    "# This Jupyter Notebook shows how to use the library to carry out the structural analysis\n",
    "## Also this is my first time trying out the github and vscode\n"
   ]
  },
  {
   "cell_type": "code",
   "execution_count": null,
   "id": "2d698d21",
   "metadata": {},
   "outputs": [],
   "source": []
  }
 ],
 "metadata": {
  "kernelspec": {
   "display_name": "Python 3 (ipykernel)",
   "language": "python",
   "name": "python3"
  },
  "language_info": {
   "codemirror_mode": {
    "name": "ipython",
    "version": 3
   },
   "file_extension": ".py",
   "mimetype": "text/x-python",
   "name": "python",
   "nbconvert_exporter": "python",
   "pygments_lexer": "ipython3",
   "version": "3.8.10"
  }
 },
 "nbformat": 4,
 "nbformat_minor": 5
}
