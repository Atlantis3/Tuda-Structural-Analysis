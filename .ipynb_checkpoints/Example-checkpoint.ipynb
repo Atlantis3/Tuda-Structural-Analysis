{
 "cells": [
  {
   "cell_type": "markdown",
   "id": "e079f371",
   "metadata": {},
   "source": [
    "# This Jupyter Notebook shows how to use the library to carry out the structural analysis\n",
    "## Also this is my first time trying out the github and vscode\n"
   ]
  },
  {
   "cell_type": "code",
   "execution_count": 1,
   "id": "ca67433a",
   "metadata": {},
   "outputs": [],
   "source": [
    "from tuda_structural_analysis import Q_bars"
   ]
  },
  {
   "cell_type": "code",
   "execution_count": 2,
   "id": "e0788ec9",
   "metadata": {},
   "outputs": [
    {
     "name": "stdout",
     "output_type": "stream",
     "text": [
      "Help on function Q_bars in module tuda_structural_analysis:\n",
      "\n",
      "Q_bars(E11, E22, G12, nu12, theta)\n",
      "    Returns the Stiffness matrix or the Q_bar matrix for an individual lamina\n",
      "    \n",
      "    Parameters\n",
      "    ----------\n",
      "    E11 : float\n",
      "        The Young's modulas in fibre direction, E11\n",
      "    E22 : float\n",
      "        The young's modulas in perpendicular to fibre direction\n",
      "    G12 : float\n",
      "        The Shear modulas of elasticity G12\n",
      "    nu12 : float\n",
      "        The poisson's ratio\n",
      "    theta : float\n",
      "        The orinetation angle of fibres in degrees\n",
      "    \n",
      "    Returns\n",
      "    -------\n",
      "    Q_bar : numpy array 3x3 matrix\n",
      "        Returns the numpy array in matrix form\n",
      "        np.array([[Q11_bar,Q12_bar,Q16_bar],[Q12_bar,Q22_bar,Q26_bar],[Q16_bar,Q26_bar,Q66_bar]])\n",
      "\n"
     ]
    }
   ],
   "source": [
    "help (Q_bars)"
   ]
  },
  {
   "cell_type": "code",
   "execution_count": 5,
   "id": "7965d855",
   "metadata": {},
   "outputs": [
    {
     "data": {
      "text/plain": [
       "array([[60981.46965514, 23738.97861646, 11048.3268495 ],\n",
       "       [23738.97861646, 99607.81385192, 22403.06848023],\n",
       "       [11048.3268495 , 22403.06848023, 34833.49470562]])"
      ]
     },
     "execution_count": 5,
     "metadata": {},
     "output_type": "execute_result"
    }
   ],
   "source": [
    "Q_bars(125000.0,50000.0,25000.0,0.27,60)"
   ]
  },
  {
   "cell_type": "code",
   "execution_count": null,
   "id": "369dcae8",
   "metadata": {},
   "outputs": [],
   "source": []
  }
 ],
 "metadata": {
  "kernelspec": {
   "display_name": "Python 3 (ipykernel)",
   "language": "python",
   "name": "python3"
  },
  "language_info": {
   "codemirror_mode": {
    "name": "ipython",
    "version": 3
   },
   "file_extension": ".py",
   "mimetype": "text/x-python",
   "name": "python",
   "nbconvert_exporter": "python",
   "pygments_lexer": "ipython3",
   "version": "3.8.10"
  }
 },
 "nbformat": 4,
 "nbformat_minor": 5
}
