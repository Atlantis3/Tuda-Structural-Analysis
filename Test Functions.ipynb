{
 "cells": [
  {
   "cell_type": "markdown",
   "id": "b6d268e5",
   "metadata": {},
   "source": [
    "# This file contains all the examples for testing the functions and making sure that they are not breaking somewhere\n",
    "\n",
    "## 1. material_type ()"
   ]
  },
  {
   "cell_type": "code",
   "execution_count": 1,
   "id": "8480b8a7",
   "metadata": {},
   "outputs": [
    {
     "data": {
      "text/plain": [
       "'The material is fully anisotropic and requires 21 independent material properties'"
      ]
     },
     "execution_count": 1,
     "metadata": {},
     "output_type": "execute_result"
    }
   ],
   "source": [
    "from tuda_structural_analysis import *\n",
    "import numpy as np\n",
    "stiffness_matrix = np.array([\n",
    "    [1,2,3,4,5,6],\n",
    "    [7,8,9,10,11,12],\n",
    "    [13,14,15,16,17,18],\n",
    "    [19,20,21,22,23,24],\n",
    "    [25,26,27,28,29,30],\n",
    "    [31,32,33,34,35,36]\n",
    "])\n",
    "material_type(stiffness_matrix)"
   ]
  },
  {
   "cell_type": "code",
   "execution_count": 2,
   "id": "e004e75b",
   "metadata": {},
   "outputs": [
    {
     "data": {
      "text/plain": [
       "'The material is Orthotropic and it requires 9 independent material properties, it is symmetric with respect to three mutually perpendicular planes. '"
      ]
     },
     "execution_count": 2,
     "metadata": {},
     "output_type": "execute_result"
    }
   ],
   "source": [
    "stiffness_matrix = np.array([\n",
    "    [1,2,3,0,0,0],\n",
    "    [7,8,9,0,0,0],\n",
    "    [13,14,15,0,0,0],\n",
    "    [19,20,21,22,0,0],\n",
    "    [25,26,27,28,29,0],\n",
    "    [31,32,33,34,35,36]\n",
    "])\n",
    "material_type(stiffness_matrix)"
   ]
  },
  {
   "cell_type": "markdown",
   "id": "11477f54",
   "metadata": {},
   "source": [
    "## 2. Stifness and complaince matrix for plane stress and plane strain conditions"
   ]
  },
  {
   "cell_type": "code",
   "execution_count": 4,
   "id": "4da5e642",
   "metadata": {},
   "outputs": [
    {
     "data": {
      "text/plain": [
       "array([[94230.76923077, 40384.61538462,     0.        ],\n",
       "       [40384.61538462, 94230.76923077,     0.        ],\n",
       "       [    0.        ,     0.        , 26923.07692308]])"
      ]
     },
     "execution_count": 4,
     "metadata": {},
     "output_type": "execute_result"
    }
   ],
   "source": [
    "E = 70000.0\n",
    "nu = 0.3\n",
    "material = (E,nu)\n",
    "stiffness_matrix_plane_strain(material)"
   ]
  },
  {
   "cell_type": "code",
   "execution_count": 6,
   "id": "ad1c3058",
   "metadata": {},
   "outputs": [
    {
     "ename": "Exception",
     "evalue": "The provided material is not a list of lenght 2",
     "output_type": "error",
     "traceback": [
      "\u001b[0;31m---------------------------------------------------------------------------\u001b[0m",
      "\u001b[0;31mException\u001b[0m                                 Traceback (most recent call last)",
      "Cell \u001b[0;32mIn[6], line 1\u001b[0m\n\u001b[0;32m----> 1\u001b[0m \u001b[43mstiffness_matrix_plane_strain\u001b[49m\u001b[43m(\u001b[49m\u001b[43m(\u001b[49m\u001b[38;5;241;43m7000.0\u001b[39;49m\u001b[43m,\u001b[49m\u001b[43m)\u001b[49m\u001b[43m)\u001b[49m\n",
      "File \u001b[0;32m~/D_Drive/Github/Git/Tuda Structural Analysis/tuda_structural_analysis.py:146\u001b[0m, in \u001b[0;36mstiffness_matrix_plane_strain\u001b[0;34m(material)\u001b[0m\n\u001b[1;32m    144\u001b[0m     \u001b[38;5;28;01mreturn\u001b[39;00m stiffness_matrix\n\u001b[1;32m    145\u001b[0m \u001b[38;5;28;01melse\u001b[39;00m:\n\u001b[0;32m--> 146\u001b[0m     \u001b[38;5;28;01mraise\u001b[39;00m \u001b[38;5;167;01mException\u001b[39;00m(\u001b[38;5;124m'\u001b[39m\u001b[38;5;124mThe provided material is not a list of lenght 2\u001b[39m\u001b[38;5;124m'\u001b[39m)\n",
      "\u001b[0;31mException\u001b[0m: The provided material is not a list of lenght 2"
     ]
    }
   ],
   "source": [
    "stiffness_matrix_plane_strain((7000.0,))"
   ]
  },
  {
   "cell_type": "code",
   "execution_count": null,
   "id": "9bd178ff",
   "metadata": {},
   "outputs": [],
   "source": []
  }
 ],
 "metadata": {
  "kernelspec": {
   "display_name": "Python 3 (ipykernel)",
   "language": "python",
   "name": "python3"
  },
  "language_info": {
   "codemirror_mode": {
    "name": "ipython",
    "version": 3
   },
   "file_extension": ".py",
   "mimetype": "text/x-python",
   "name": "python",
   "nbconvert_exporter": "python",
   "pygments_lexer": "ipython3",
   "version": "3.8.10"
  }
 },
 "nbformat": 4,
 "nbformat_minor": 5
}
