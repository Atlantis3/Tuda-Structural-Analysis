{
 "cells": [
  {
   "cell_type": "markdown",
   "id": "d1e27bbc",
   "metadata": {},
   "source": [
    "# This file contains all the examples for testing the functions and making sure that they are not breaking somewhere\n",
    "\n",
    "## 1. material_type ()"
   ]
  },
  {
   "cell_type": "code",
   "execution_count": 1,
   "id": "215556bf",
   "metadata": {},
   "outputs": [
    {
     "data": {
      "text/plain": [
       "'The material is fully anisotropic and requires 21 independent material properties'"
      ]
     },
     "execution_count": 1,
     "metadata": {},
     "output_type": "execute_result"
    }
   ],
   "source": [
    "from tuda_structural_analysis import material_type\n",
    "import numpy as np\n",
    "stiffness_matrix = np.array([\n",
    "    [1,2,3,4,5,6],\n",
    "    [7,8,9,10,11,12],\n",
    "    [13,14,15,16,17,18],\n",
    "    [19,20,21,22,23,24],\n",
    "    [25,26,27,28,29,30],\n",
    "    [31,32,33,34,35,36]\n",
    "])\n",
    "material_type(stiffness_matrix)"
   ]
  },
  {
   "cell_type": "code",
   "execution_count": null,
   "id": "c2fc2545",
   "metadata": {},
   "outputs": [],
   "source": [
    "stiffness_matrix = np.array([\n",
    "    [1,2,3,0,0,0],\n",
    "    [7,8,9,0,0,0],\n",
    "    [13,14,15,0,0,0],\n",
    "    [19,20,21,22,,24],\n",
    "    [25,26,27,28,29,30],\n",
    "    [31,32,33,34,35,36]\n",
    "])\n",
    "material_type(stiffness_matrix)"
   ]
  }
 ],
 "metadata": {
  "kernelspec": {
   "display_name": "Python 3 (ipykernel)",
   "language": "python",
   "name": "python3"
  },
  "language_info": {
   "codemirror_mode": {
    "name": "ipython",
    "version": 3
   },
   "file_extension": ".py",
   "mimetype": "text/x-python",
   "name": "python",
   "nbconvert_exporter": "python",
   "pygments_lexer": "ipython3",
   "version": "3.8.10"
  }
 },
 "nbformat": 4,
 "nbformat_minor": 5
}
