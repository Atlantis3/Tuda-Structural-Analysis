{
 "cells": [
  {
   "cell_type": "markdown",
   "id": "e079f371",
   "metadata": {},
   "source": [
    "# This Jupyter Notebook shows how to use the library to carry out the structural analysis\n",
    "## Also this is my first time trying out the github and vscode\n"
   ]
  },
  {
   "cell_type": "markdown",
   "id": "c690dc56",
   "metadata": {},
   "source": [
    "## 1. material_type()"
   ]
  },
  {
   "cell_type": "code",
   "execution_count": 1,
   "id": "ca67433a",
   "metadata": {},
   "outputs": [
    {
     "name": "stdout",
     "output_type": "stream",
     "text": [
      "Help on function material_type in module tuda_structural_analysis:\n",
      "\n",
      "material_type(stiffness_matrix)\n",
      "    Checks the given stiffness matrix for the type of linearity, whether the material is isotropic, orthotropic, monotropic, transversal isotropic or fully anisotropic\n",
      "    \n",
      "    Parameters\n",
      "    ----------\n",
      "    stiffness_matrix: numpy array, 3x3 or 6x6 matrix\n",
      "        The Stifness matrix in its standard form, a 3x3 matrix for 2d problems and a 6x6 matrix for 3d problems\n",
      "    \n",
      "    Returns\n",
      "    -------\n",
      "    output: string\n",
      "        Tells the user if the material is isotropic, orthotropic, monotropic, transversal isotropic or fully anisotropic\n",
      "\n"
     ]
    }
   ],
   "source": [
    "from tuda_structural_analysis import material_type\n",
    "help (material_type)"
   ]
  },
  {
   "cell_type": "code",
   "execution_count": 2,
   "id": "e0788ec9",
   "metadata": {},
   "outputs": [
    {
     "data": {
      "text/plain": [
       "'The material is fully anisotropic and requires 21 independent material properties'"
      ]
     },
     "execution_count": 2,
     "metadata": {},
     "output_type": "execute_result"
    }
   ],
   "source": [
    "import numpy as np\n",
    "stiffness_matrix = np.array([\n",
    "    [1,2,3,4,5,6],\n",
    "    [7,8,9,10,11,12],\n",
    "    [13,14,15,16,17,18],\n",
    "    [19,20,21,22,23,24],\n",
    "    [25,26,27,28,29,30],\n",
    "    [31,32,33,34,35,36]\n",
    "])\n",
    "material_type(stiffness_matrix)"
   ]
  },
  {
   "cell_type": "code",
   "execution_count": null,
   "id": "7965d855",
   "metadata": {},
   "outputs": [],
   "source": []
  },
  {
   "cell_type": "code",
   "execution_count": null,
   "id": "369dcae8",
   "metadata": {},
   "outputs": [],
   "source": []
  }
 ],
 "metadata": {
  "kernelspec": {
   "display_name": "Python 3 (ipykernel)",
   "language": "python",
   "name": "python3"
  },
  "language_info": {
   "codemirror_mode": {
    "name": "ipython",
    "version": 3
   },
   "file_extension": ".py",
   "mimetype": "text/x-python",
   "name": "python",
   "nbconvert_exporter": "python",
   "pygments_lexer": "ipython3",
   "version": "3.8.10"
  }
 },
 "nbformat": 4,
 "nbformat_minor": 5
}
